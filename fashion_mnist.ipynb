{
  "nbformat": 4,
  "nbformat_minor": 0,
  "metadata": {
    "colab": {
      "name": "fashion-mnist.ipynb",
      "provenance": []
    },
    "kernelspec": {
      "name": "python3",
      "display_name": "Python 3"
    }
  },
  "cells": [
    {
      "cell_type": "code",
      "metadata": {
        "id": "jBAm_d1ru5g0",
        "colab_type": "code",
        "colab": {}
      },
      "source": [
        "import matplotlib.pyplot as plt\n",
        "import numpy as np\n",
        "import torch\n",
        "import torch.nn as nn\n",
        "import torch.optim as optim\n",
        "import torch.nn.functional as F\n",
        "import torchvision\n",
        "import torchvision.transforms as transforms"
      ],
      "execution_count": 1,
      "outputs": []
    },
    {
      "cell_type": "code",
      "metadata": {
        "id": "WaUkFPZ_5LOJ",
        "colab_type": "code",
        "colab": {}
      },
      "source": [
        "# combines tensor and normalization transformations [0,1] -> [-1, 1]\n",
        "transform = transforms.Compose([transforms.ToTensor(), transforms.Normalize(0.5, 0.5)])\n",
        "\n",
        "# training set\n",
        "trainset = torchvision.datasets.FashionMNIST(root='./data', train=True, download=True, transform=transform)\n",
        "trainloader = torch.utils.data.DataLoader(trainset, batch_size=5, shuffle=True, num_workers=2)\n",
        "\n",
        "# testing set\n",
        "testset = torchvision.datasets.FashionMNIST(root='./data', train=False, download=True, transform=transform)\n",
        "testloader = torch.utils.data.DataLoader(testset, batch_size=5, shuffle=False, num_workers=2)\n",
        "\n",
        "classes = ('T-shirt/top', 'Trouser', 'Pullover', 'Dress', 'Coat', 'Sandal',\n",
        "               'Shirt', 'Sneaker', 'Bag', 'Ankle boot')"
      ],
      "execution_count": 2,
      "outputs": []
    },
    {
      "cell_type": "code",
      "metadata": {
        "id": "4m4VQmk3KKBq",
        "colab_type": "code",
        "colab": {
          "base_uri": "https://localhost:8080/",
          "height": 138
        },
        "outputId": "20808353-5e9c-412b-b183-48d7433db595"
      },
      "source": [
        "# training set check\n",
        "def imshow(img):\n",
        "  img = img / 2 + 0.5\n",
        "  npimg = img.numpy()\n",
        "  plt.imshow(np.transpose(npimg, (1,2,0)))\n",
        "  plt.show()\n",
        "\n",
        "dataiter = iter(trainloader)\n",
        "images, labels = dataiter.next()\n",
        "pad = nn.ZeroPad2d(2)\n",
        "images = pad(images)\n",
        "\n",
        "imshow(torchvision.utils.make_grid(images))\n",
        "print(' '.join('{:s}'.format(classes[labels[j]]) for j in range(5)))"
      ],
      "execution_count": 3,
      "outputs": [
        {
          "output_type": "display_data",
          "data": {
            "image/png": "[encoded data removed]",
            "text/plain": [
              "<Figure size 432x288 with 1 Axes>"
            ]
          },
          "metadata": {
            "tags": [],
            "needs_background": "light"
          }
        },
        {
          "output_type": "stream",
          "text": [
            "Sneaker Bag Dress T-shirt/top Shirt\n"
          ],
          "name": "stdout"
        }
      ]
    },
    {
      "cell_type": "code",
      "metadata": {
        "id": "bE4MYJr_R87O",
        "colab_type": "code",
        "colab": {
          "base_uri": "https://localhost:8080/",
          "height": 136
        },
        "outputId": "a0bfab97-c211-47c4-ef0f-c348ebc5415b"
      },
      "source": [
        "# Net() class definition w/ nn.Module inheritance\n",
        "class Net(nn.Module):\n",
        "\n",
        "  def __init__(self):\n",
        "    # initializes inherited class (nn. Module)\n",
        "    super(Net, self).__init__()\n",
        "    # Conv2d(in_channels, out_channels, kernel_size)\n",
        "    self.conv1 = nn.Conv2d(1, 6, 3)\n",
        "    self.conv2 = nn.Conv2d(6, 16, 3)\n",
        "    # Linear(in_features, out_features)\n",
        "    self.fc1 = nn.Linear(16 * 6 * 6, 120)\n",
        "    self.fc2 = nn.Linear(120, 84)\n",
        "    self.fc3 = nn.Linear(84, 10)\n",
        "  \n",
        "  def forward(self, x):\n",
        "    # pad 28x28 with zeros on all sides to make expected 32x32\n",
        "    pad = nn.ZeroPad2d(2)\n",
        "    x = pad(x)\n",
        "    # \"max pooling over a (2,2) window\"\n",
        "    x = F.max_pool2d(F.relu(self.conv1(x)), (2,2))\n",
        "    # \"if the size is a square you can only specify a single number\"\n",
        "    x = F.max_pool2d(F.relu(self.conv2(x)), 2)\n",
        "    x = x.view(-1, self.num_flat_features(x))\n",
        "    x = F.relu(self.fc1(x))\n",
        "    x = F.relu(self.fc2(x))\n",
        "    x = self.fc3(x)\n",
        "    return x\n",
        "  \n",
        "  def num_flat_features(self, x):\n",
        "    size = x.size()[1:]\n",
        "    num_features = 1\n",
        "    for s in size:\n",
        "      num_features *= s\n",
        "    return num_features\n",
        "\n",
        "net = Net()\n",
        "print(net)    "
      ],
      "execution_count": 4,
      "outputs": [
        {
          "output_type": "stream",
          "text": [
            "Net(\n",
            "  (conv1): Conv2d(1, 6, kernel_size=(3, 3), stride=(1, 1))\n",
            "  (conv2): Conv2d(6, 16, kernel_size=(3, 3), stride=(1, 1))\n",
            "  (fc1): Linear(in_features=576, out_features=120, bias=True)\n",
            "  (fc2): Linear(in_features=120, out_features=84, bias=True)\n",
            "  (fc3): Linear(in_features=84, out_features=10, bias=True)\n",
            ")\n"
          ],
          "name": "stdout"
        }
      ]
    },
    {
      "cell_type": "code",
      "metadata": {
        "id": "kb1GqVYnt8xU",
        "colab_type": "code",
        "colab": {
          "base_uri": "https://localhost:8080/",
          "height": 51
        },
        "outputId": "89fffed0-e26a-4333-b02f-fa6ee2adc21b"
      },
      "source": [
        "params = list(net.parameters())\n",
        "print(len(params))\n",
        "print(params[0].size())"
      ],
      "execution_count": 5,
      "outputs": [
        {
          "output_type": "stream",
          "text": [
            "10\n",
            "torch.Size([6, 1, 3, 3])\n"
          ],
          "name": "stdout"
        }
      ]
    },
    {
      "cell_type": "code",
      "metadata": {
        "id": "Cn3rU2LVRm9R",
        "colab_type": "code",
        "colab": {
          "base_uri": "https://localhost:8080/",
          "height": 238
        },
        "outputId": "99303a91-9012-4b27-8fb7-21811f98daf4"
      },
      "source": [
        "# training process\n",
        "criterion = nn.CrossEntropyLoss()\n",
        "optimizer = optim.SGD(net.parameters(), lr=0.01)\n",
        "\n",
        "for epoch in range(2):\n",
        "  running_loss = 0.0\n",
        "  for i, data in enumerate(trainloader, 0):\n",
        "    # get inputs - data is a list of [inputs, labels]\n",
        "    inputs, labels = data\n",
        "    # zero parameter gradients\n",
        "    optimizer.zero_grad()\n",
        "    # forward + backward + optimize\n",
        "    outputs = net(inputs)\n",
        "    loss = criterion(outputs, labels)\n",
        "    loss.backward()\n",
        "    optimizer.step()\n",
        "    # print results\n",
        "    running_loss += loss.item()\n",
        "    if i % 2000 == 1999:\n",
        "      print('[{:d}, {:5d}] loss: {:.3f}'.format(epoch + 1, i + 1, running_loss / 2000))\n",
        "      running_loss = 0.0\n",
        "    \n",
        "print('Finished training!')"
      ],
      "execution_count": 6,
      "outputs": [
        {
          "output_type": "stream",
          "text": [
            "[1,  2000] loss: 1.250\n",
            "[1,  4000] loss: 0.585\n",
            "[1,  6000] loss: 0.509\n",
            "[1,  8000] loss: 0.464\n",
            "[1, 10000] loss: 0.440\n",
            "[1, 12000] loss: 0.422\n",
            "[2,  2000] loss: 0.377\n",
            "[2,  4000] loss: 0.386\n",
            "[2,  6000] loss: 0.365\n",
            "[2,  8000] loss: 0.348\n",
            "[2, 10000] loss: 0.356\n",
            "[2, 12000] loss: 0.351\n",
            "Finished training!\n"
          ],
          "name": "stdout"
        }
      ]
    },
    {
      "cell_type": "code",
      "metadata": {
        "id": "v3W4g1LeClNo",
        "colab_type": "code",
        "colab": {}
      },
      "source": [
        "# save trained model\n",
        "PATH = './fashion-mnist_net.pth'\n",
        "torch.save(net.state_dict(), PATH)"
      ],
      "execution_count": 7,
      "outputs": []
    },
    {
      "cell_type": "code",
      "metadata": {
        "id": "6xhLW2dwEHbf",
        "colab_type": "code",
        "colab": {
          "base_uri": "https://localhost:8080/",
          "height": 155
        },
        "outputId": "124d4d77-ed6a-4c3f-95c1-dd3e615221cc"
      },
      "source": [
        "# test set check\n",
        "dataiter = iter(testloader)\n",
        "images, labels = dataiter.next()\n",
        "pad = nn.ZeroPad2d(2)\n",
        "images_padded = pad(images)\n",
        "\n",
        "imshow(torchvision.utils.make_grid(images_padded))\n",
        "print('Ground truth: ', ' '.join('{:5s}'.format(classes[labels[j]]) for j in range(5)))\n",
        "\n",
        "# show predicted values\n",
        "net = Net()\n",
        "net.load_state_dict(torch.load(PATH))\n",
        "\n",
        "outputs = net(images)\n",
        "_, predicted = torch.max(outputs, 1)\n",
        "print('Predicted:    ', ' '.join('{:s}'.format(classes[predicted[j]]) for j in range(5)))"
      ],
      "execution_count": 8,
      "outputs": [
        {
          "output_type": "display_data",
          "data": {
            "image/png": "[encoded data removed]",
            "text/plain": [
              "<Figure size 432x288 with 1 Axes>"
            ]
          },
          "metadata": {
            "tags": [],
            "needs_background": "light"
          }
        },
        {
          "output_type": "stream",
          "text": [
            "Ground truth:  Ankle boot Pullover Trouser Trouser Shirt\n",
            "Predicted:     Ankle boot Pullover Trouser Trouser Shirt\n"
          ],
          "name": "stdout"
        }
      ]
    },
    {
      "cell_type": "code",
      "metadata": {
        "id": "OST0KureE1cB",
        "colab_type": "code",
        "colab": {
          "base_uri": "https://localhost:8080/",
          "height": 221
        },
        "outputId": "f3c7ac55-0e63-4dab-868b-94d22328b051"
      },
      "source": [
        "# test evaluation\n",
        "correct = 0\n",
        "total = 0\n",
        "class_correct = list(0. for i in range(10))\n",
        "class_total = list(0. for i in range(10))\n",
        "\n",
        "with torch.no_grad():\n",
        "  for data in testloader:\n",
        "    images, labels = data\n",
        "    outputs = net(images)\n",
        "    _, predicted = torch.max(outputs.data, 1)\n",
        "    total += labels.size(0)\n",
        "    correct += (predicted == labels).sum().item()\n",
        "    c = (predicted == labels).squeeze()\n",
        "    for i in range(5):\n",
        "      label = labels[i]\n",
        "      class_correct[label] += c[i].item()\n",
        "      class_total[label] += 1\n",
        "\n",
        "print('Overall accuracy: {:d}%\\n'.format(int(100 * correct / total)))\n",
        "for i in range(10):\n",
        "  print('Accuracy of {:11s} : {:2d}%'.format(classes[i], int(100 * class_correct[i] / class_total[i])))"
      ],
      "execution_count": 10,
      "outputs": [
        {
          "output_type": "stream",
          "text": [
            "Overall accuracy: 86%\n",
            "\n",
            "Accuracy of T-shirt/top : 85%\n",
            "Accuracy of Trouser     : 96%\n",
            "Accuracy of Pullover    : 88%\n",
            "Accuracy of Dress       : 89%\n",
            "Accuracy of Coat        : 72%\n",
            "Accuracy of Sandal      : 96%\n",
            "Accuracy of Shirt       : 45%\n",
            "Accuracy of Sneaker     : 95%\n",
            "Accuracy of Bag         : 96%\n",
            "Accuracy of Ankle boot  : 96%\n"
          ],
          "name": "stdout"
        }
      ]
    },
    {
      "cell_type": "markdown",
      "metadata": {
        "id": "K_z6CwyYVG0h",
        "colab_type": "text"
      },
      "source": [
        "## **RESULTS**\n",
        "\n",
        "Overall accuracy: 86%\n",
        "\n",
        "**Per category:**\n",
        "- Accuracy of T-shirt/top : 85%\n",
        "- Accuracy of Trouser     : 96%\n",
        "- Accuracy of Pullover    : 88%\n",
        "- Accuracy of Dress       : 89%\n",
        "- Accuracy of Coat        : 72%\n",
        "- Accuracy of Sandal      : 96%\n",
        "- Accuracy of Shirt       : 45%\n",
        "- Accuracy of Sneaker     : 95%\n",
        "- Accuracy of Bag         : 96%\n",
        "- Accuracy of Ankle boot  : 96%"
      ]
    }
  ]
}